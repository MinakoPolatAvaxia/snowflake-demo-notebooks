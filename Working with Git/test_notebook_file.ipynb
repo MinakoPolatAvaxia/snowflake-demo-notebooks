{
 "cells": [
  {
   "cell_type": "code",
   "execution_count": null,
   "metadata": {},
   "outputs": [],
   "source": [
    "SELECT\n",
    "      l_returnflag,\n",
    "      l_linestatus,\n",
    "      sum(l_quantity) as sum_qty,\n",
    "      sum(l_extendedprice) as sum_base_price,\n",
    "      sum(l_extendedprice * (1-l_discount)) as sum_disc_price,\n",
    "      sum(l_extendedprice * (1-l_discount) * (1+l_tax)) as sum_charge,\n",
    "      avg(l_quantity) as avg_qty,\n",
    "      avg(l_extendedprice) as avg_price,\n",
    "      avg(l_discount) as avg_disc,\n",
    "      count(*) as count_order\n",
    "FROM      lineitem\n",
    "WHERE\n",
    "      l_shipdate <= dateadd(day, -90, to_date('1998-12-01'))\n",
    "GROUP BY\n",
    "      l_returnflag,\n",
    "      l_linestatus\n",
    "ORDER BY\n",
    "      l_returnflag,\n",
    "      l_linestatus;"
   ]
  }
 ],
 "metadata": {
  "language_info": {
   "name": "python"
  }
 },
 "nbformat": 4,
 "nbformat_minor": 2
}
